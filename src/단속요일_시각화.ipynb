{
 "cells": [
  {
   "cell_type": "markdown",
   "metadata": {},
   "source": [
    "# 단속요일별 단속현황 시각화"
   ]
  },
  {
   "cell_type": "markdown",
   "metadata": {},
   "source": [
    "### 1. 데이터셋 로드"
   ]
  },
  {
   "cell_type": "code",
   "execution_count": 1,
   "metadata": {},
   "outputs": [
    {
     "name": "stderr",
     "output_type": "stream",
     "text": [
      "<>:4: SyntaxWarning: invalid escape sequence '\\G'\n",
      "<>:4: SyntaxWarning: invalid escape sequence '\\G'\n",
      "C:\\Users\\esroh\\AppData\\Local\\Temp\\ipykernel_25680\\2939232711.py:4: SyntaxWarning: invalid escape sequence '\\G'\n",
      "  file_path = 'C:\\GitHub_Project\\Parker_AI-ML\\data\\단속요일별 단속현황..csv'\n"
     ]
    },
    {
     "data": {
      "text/html": [
       "<div>\n",
       "<style scoped>\n",
       "    .dataframe tbody tr th:only-of-type {\n",
       "        vertical-align: middle;\n",
       "    }\n",
       "\n",
       "    .dataframe tbody tr th {\n",
       "        vertical-align: top;\n",
       "    }\n",
       "\n",
       "    .dataframe thead th {\n",
       "        text-align: right;\n",
       "    }\n",
       "</style>\n",
       "<table border=\"1\" class=\"dataframe\">\n",
       "  <thead>\n",
       "    <tr style=\"text-align: right;\">\n",
       "      <th></th>\n",
       "      <th>시군구명</th>\n",
       "      <th>과태료명</th>\n",
       "      <th>단속요일</th>\n",
       "      <th>단속건수</th>\n",
       "      <th>단속원금</th>\n",
       "    </tr>\n",
       "  </thead>\n",
       "  <tbody>\n",
       "    <tr>\n",
       "      <th>0</th>\n",
       "      <td>종로구</td>\n",
       "      <td>주정차위반과태료</td>\n",
       "      <td>금요일</td>\n",
       "      <td>22,918</td>\n",
       "      <td>1,063,825,000</td>\n",
       "    </tr>\n",
       "    <tr>\n",
       "      <th>1</th>\n",
       "      <td>종로구</td>\n",
       "      <td>주정차위반과태료</td>\n",
       "      <td>목요일</td>\n",
       "      <td>22,636</td>\n",
       "      <td>1,053,680,000</td>\n",
       "    </tr>\n",
       "    <tr>\n",
       "      <th>2</th>\n",
       "      <td>종로구</td>\n",
       "      <td>주정차위반과태료</td>\n",
       "      <td>수요일</td>\n",
       "      <td>22,595</td>\n",
       "      <td>1,054,470,000</td>\n",
       "    </tr>\n",
       "    <tr>\n",
       "      <th>3</th>\n",
       "      <td>종로구</td>\n",
       "      <td>주정차위반과태료</td>\n",
       "      <td>월요일</td>\n",
       "      <td>20,874</td>\n",
       "      <td>974,150,000</td>\n",
       "    </tr>\n",
       "    <tr>\n",
       "      <th>4</th>\n",
       "      <td>종로구</td>\n",
       "      <td>주정차위반과태료</td>\n",
       "      <td>일요일</td>\n",
       "      <td>13,565</td>\n",
       "      <td>545,805,000</td>\n",
       "    </tr>\n",
       "    <tr>\n",
       "      <th>...</th>\n",
       "      <td>...</td>\n",
       "      <td>...</td>\n",
       "      <td>...</td>\n",
       "      <td>...</td>\n",
       "      <td>...</td>\n",
       "    </tr>\n",
       "    <tr>\n",
       "      <th>204</th>\n",
       "      <td>시청</td>\n",
       "      <td>버스전용차로위반과태료</td>\n",
       "      <td>수요일</td>\n",
       "      <td>24,480</td>\n",
       "      <td>1,223,995,000</td>\n",
       "    </tr>\n",
       "    <tr>\n",
       "      <th>205</th>\n",
       "      <td>시청</td>\n",
       "      <td>버스전용차로위반과태료</td>\n",
       "      <td>월요일</td>\n",
       "      <td>21,813</td>\n",
       "      <td>1,091,100,000</td>\n",
       "    </tr>\n",
       "    <tr>\n",
       "      <th>206</th>\n",
       "      <td>시청</td>\n",
       "      <td>버스전용차로위반과태료</td>\n",
       "      <td>일요일</td>\n",
       "      <td>4,724</td>\n",
       "      <td>236,515,000</td>\n",
       "    </tr>\n",
       "    <tr>\n",
       "      <th>207</th>\n",
       "      <td>시청</td>\n",
       "      <td>버스전용차로위반과태료</td>\n",
       "      <td>토요일</td>\n",
       "      <td>5,806</td>\n",
       "      <td>290,640,000</td>\n",
       "    </tr>\n",
       "    <tr>\n",
       "      <th>208</th>\n",
       "      <td>시청</td>\n",
       "      <td>버스전용차로위반과태료</td>\n",
       "      <td>화요일</td>\n",
       "      <td>25,887</td>\n",
       "      <td>1,294,415,000</td>\n",
       "    </tr>\n",
       "  </tbody>\n",
       "</table>\n",
       "<p>209 rows × 5 columns</p>\n",
       "</div>"
      ],
      "text/plain": [
       "    시군구명         과태료명 단속요일      단속건수             단속원금\n",
       "0    종로구     주정차위반과태료  금요일   22,918    1,063,825,000 \n",
       "1    종로구     주정차위반과태료  목요일   22,636    1,053,680,000 \n",
       "2    종로구     주정차위반과태료  수요일   22,595    1,054,470,000 \n",
       "3    종로구     주정차위반과태료  월요일   20,874      974,150,000 \n",
       "4    종로구     주정차위반과태료  일요일   13,565      545,805,000 \n",
       "..   ...          ...  ...       ...              ...\n",
       "204   시청  버스전용차로위반과태료  수요일   24,480    1,223,995,000 \n",
       "205   시청  버스전용차로위반과태료  월요일   21,813    1,091,100,000 \n",
       "206   시청  버스전용차로위반과태료  일요일    4,724      236,515,000 \n",
       "207   시청  버스전용차로위반과태료  토요일    5,806      290,640,000 \n",
       "208   시청  버스전용차로위반과태료  화요일   25,887    1,294,415,000 \n",
       "\n",
       "[209 rows x 5 columns]"
      ]
     },
     "execution_count": 1,
     "metadata": {},
     "output_type": "execute_result"
    }
   ],
   "source": [
    "import pandas as pd\n",
    "\n",
    "# 데이터 파일 경로\n",
    "file_path = 'C:\\GitHub_Project\\Parker_AI-ML\\data\\단속요일별 단속현황..csv'  \n",
    "\n",
    "# 데이터 불러오기\n",
    "data = pd.read_csv(file_path, encoding='utf-8')\n",
    "\n",
    "data"
   ]
  },
  {
   "cell_type": "markdown",
   "metadata": {},
   "source": [
    "### 2. 주정차위반과태료 칼럼만 출출"
   ]
  },
  {
   "cell_type": "code",
   "execution_count": 3,
   "metadata": {},
   "outputs": [
    {
     "data": {
      "text/html": [
       "<div>\n",
       "<style scoped>\n",
       "    .dataframe tbody tr th:only-of-type {\n",
       "        vertical-align: middle;\n",
       "    }\n",
       "\n",
       "    .dataframe tbody tr th {\n",
       "        vertical-align: top;\n",
       "    }\n",
       "\n",
       "    .dataframe thead th {\n",
       "        text-align: right;\n",
       "    }\n",
       "</style>\n",
       "<table border=\"1\" class=\"dataframe\">\n",
       "  <thead>\n",
       "    <tr style=\"text-align: right;\">\n",
       "      <th></th>\n",
       "      <th>시군구명</th>\n",
       "      <th>과태료명</th>\n",
       "      <th>단속요일</th>\n",
       "      <th>단속건수</th>\n",
       "      <th>단속원금</th>\n",
       "    </tr>\n",
       "  </thead>\n",
       "  <tbody>\n",
       "    <tr>\n",
       "      <th>0</th>\n",
       "      <td>종로구</td>\n",
       "      <td>주정차위반과태료</td>\n",
       "      <td>금요일</td>\n",
       "      <td>22,918</td>\n",
       "      <td>1,063,825,000</td>\n",
       "    </tr>\n",
       "    <tr>\n",
       "      <th>1</th>\n",
       "      <td>종로구</td>\n",
       "      <td>주정차위반과태료</td>\n",
       "      <td>목요일</td>\n",
       "      <td>22,636</td>\n",
       "      <td>1,053,680,000</td>\n",
       "    </tr>\n",
       "    <tr>\n",
       "      <th>2</th>\n",
       "      <td>종로구</td>\n",
       "      <td>주정차위반과태료</td>\n",
       "      <td>수요일</td>\n",
       "      <td>22,595</td>\n",
       "      <td>1,054,470,000</td>\n",
       "    </tr>\n",
       "    <tr>\n",
       "      <th>3</th>\n",
       "      <td>종로구</td>\n",
       "      <td>주정차위반과태료</td>\n",
       "      <td>월요일</td>\n",
       "      <td>20,874</td>\n",
       "      <td>974,150,000</td>\n",
       "    </tr>\n",
       "    <tr>\n",
       "      <th>4</th>\n",
       "      <td>종로구</td>\n",
       "      <td>주정차위반과태료</td>\n",
       "      <td>일요일</td>\n",
       "      <td>13,565</td>\n",
       "      <td>545,805,000</td>\n",
       "    </tr>\n",
       "    <tr>\n",
       "      <th>...</th>\n",
       "      <td>...</td>\n",
       "      <td>...</td>\n",
       "      <td>...</td>\n",
       "      <td>...</td>\n",
       "      <td>...</td>\n",
       "    </tr>\n",
       "    <tr>\n",
       "      <th>197</th>\n",
       "      <td>강동구</td>\n",
       "      <td>주정차위반과태료</td>\n",
       "      <td>수요일</td>\n",
       "      <td>6,229</td>\n",
       "      <td>286,290,000</td>\n",
       "    </tr>\n",
       "    <tr>\n",
       "      <th>198</th>\n",
       "      <td>강동구</td>\n",
       "      <td>주정차위반과태료</td>\n",
       "      <td>월요일</td>\n",
       "      <td>6,372</td>\n",
       "      <td>293,190,000</td>\n",
       "    </tr>\n",
       "    <tr>\n",
       "      <th>199</th>\n",
       "      <td>강동구</td>\n",
       "      <td>주정차위반과태료</td>\n",
       "      <td>일요일</td>\n",
       "      <td>2,278</td>\n",
       "      <td>98,880,000</td>\n",
       "    </tr>\n",
       "    <tr>\n",
       "      <th>200</th>\n",
       "      <td>강동구</td>\n",
       "      <td>주정차위반과태료</td>\n",
       "      <td>토요일</td>\n",
       "      <td>2,390</td>\n",
       "      <td>104,630,000</td>\n",
       "    </tr>\n",
       "    <tr>\n",
       "      <th>201</th>\n",
       "      <td>강동구</td>\n",
       "      <td>주정차위반과태료</td>\n",
       "      <td>화요일</td>\n",
       "      <td>6,514</td>\n",
       "      <td>300,835,000</td>\n",
       "    </tr>\n",
       "  </tbody>\n",
       "</table>\n",
       "<p>175 rows × 5 columns</p>\n",
       "</div>"
      ],
      "text/plain": [
       "    시군구명      과태료명 단속요일      단속건수             단속원금\n",
       "0    종로구  주정차위반과태료  금요일   22,918    1,063,825,000 \n",
       "1    종로구  주정차위반과태료  목요일   22,636    1,053,680,000 \n",
       "2    종로구  주정차위반과태료  수요일   22,595    1,054,470,000 \n",
       "3    종로구  주정차위반과태료  월요일   20,874      974,150,000 \n",
       "4    종로구  주정차위반과태료  일요일   13,565      545,805,000 \n",
       "..   ...       ...  ...       ...              ...\n",
       "197  강동구  주정차위반과태료  수요일    6,229      286,290,000 \n",
       "198  강동구  주정차위반과태료  월요일    6,372      293,190,000 \n",
       "199  강동구  주정차위반과태료  일요일    2,278       98,880,000 \n",
       "200  강동구  주정차위반과태료  토요일    2,390      104,630,000 \n",
       "201  강동구  주정차위반과태료  화요일    6,514      300,835,000 \n",
       "\n",
       "[175 rows x 5 columns]"
      ]
     },
     "execution_count": 3,
     "metadata": {},
     "output_type": "execute_result"
    }
   ],
   "source": [
    "# 1. '주정차위반과태료'에 해당하는 행만 필터링\n",
    "filtered_data = data[data['과태료명'].str.contains(\"주정차위반과태료\")]\n",
    "filtered_data"
   ]
  },
  {
   "cell_type": "code",
   "execution_count": 6,
   "metadata": {},
   "outputs": [
    {
     "name": "stdout",
     "output_type": "stream",
     "text": [
      "Index(['시군구명', '과태료명', '단속요일', '단속건수', '단속원금'], dtype='object')\n"
     ]
    }
   ],
   "source": [
    "print(filtered_data.columns)\n"
   ]
  },
  {
   "cell_type": "markdown",
   "metadata": {},
   "source": [
    "### 3. 데이터셋 요일을 기준으로 칼럼 재비치 "
   ]
  },
  {
   "cell_type": "code",
   "execution_count": 16,
   "metadata": {},
   "outputs": [
    {
     "name": "stdout",
     "output_type": "stream",
     "text": [
      "시군구명 단속요일       종로구        중구       용산구      성동구      광진구      동대문구      중랑구  \\\n",
      "0     월요일   20,874    19,943     9,487    9,061    7,175    10,944    5,082    \n",
      "1     화요일   23,192    20,068     9,714    9,327    7,044    11,230    5,135    \n",
      "2     수요일   22,595    19,539     9,941    9,242    7,276    11,134    5,132    \n",
      "3     목요일   22,636    20,291     9,516    9,108    7,060    11,122    5,004    \n",
      "4     금요일   22,918    20,495    10,360    9,512    7,335    11,978    5,471    \n",
      "5     토요일   10,790    12,882     5,388    3,610    6,329     6,217    2,991    \n",
      "6     일요일   13,565    14,810     6,017    3,791    6,798     5,906    2,819    \n",
      "\n",
      "시군구명      성북구      강북구  ...       강서구       구로구      금천구      영등포구      동작구  \\\n",
      "0      6,111    7,963   ...   23,411     9,091    7,408    13,904    8,079    \n",
      "1      6,434    8,458   ...   24,129    10,019    7,615    14,029    8,623    \n",
      "2      5,944    7,747   ...   24,958     9,289    7,168    13,296    8,174    \n",
      "3      6,141    7,980   ...   25,021     9,667    7,426    13,771    8,535    \n",
      "4      6,438    8,856   ...   25,623    10,147    7,612    14,340    8,738    \n",
      "5      1,788    1,586   ...   14,372     2,545    3,340     8,646    1,233    \n",
      "6      1,854    1,590   ...   14,181     2,761    4,129    10,036    1,008    \n",
      "\n",
      "시군구명       관악구       서초구       강남구       송파구      강동구  \n",
      "0      10,772    16,506    27,001    16,109    6,372   \n",
      "1      10,686    17,045    28,221    16,981    6,514   \n",
      "2      10,586    16,789    27,209    16,949    6,229   \n",
      "3      10,446    16,155    28,549    16,919    6,168   \n",
      "4      11,241    17,243    28,515    17,475    6,792   \n",
      "5      10,144    17,843     9,377    11,919    2,390   \n",
      "6      10,914    14,268     7,198    11,131    2,278   \n",
      "\n",
      "[7 rows x 26 columns]\n"
     ]
    }
   ],
   "source": [
    "# 2. 요일별로 자치구별 단속 건수를 집계\n",
    "# 피벗 테이블 생성 ('단속요일'을 행으로, '시군구명'을 열로 설정)\n",
    "pivot_data = pd.pivot_table(\n",
    "    filtered_data,\n",
    "    index='단속요일',       # 행: 단속요일\n",
    "    columns='시군구명',    # 열: 자치구 (시군구명)\n",
    "    values='단속건수',      # 집계 대상: 단속건수\n",
    "    aggfunc='sum',         # 각 자치구에서 단속 건수 합계\n",
    "    fill_value=0           # 결측값은 0으로 채움\n",
    ")\n",
    "\n",
    "# 3. 요일 순서 재정렬 (월~금)\n",
    "ordered_weekdays = ['월요일', '화요일', '수요일', '목요일', '금요일','토요일','일']  # 요일 순서 지정\n",
    "pivot_data = pivot_data.loc[ordered_weekdays]\n",
    "\n",
    "# 4. 자치구 순서를 기존 데이터 순서대로 유지\n",
    "original_order = filtered_data['시군구명'].drop_duplicates().tolist()  # 원래 데이터의 자치구 순서 가져오기\n",
    "pivot_data = pivot_data.reset_index()  # '단속요일'을 열로 변환\n",
    "ordered_columns = ['단속요일'] + original_order  # '단속요일'과 자치구 순서를 결합\n",
    "pivot_data = pivot_data[ordered_columns]  # 칼럼 순서 재정렬\n",
    "\n",
    "# 5. 결과 확인\n",
    "print(pivot_data)"
   ]
  },
  {
   "cell_type": "markdown",
   "metadata": {},
   "source": [
    "### 4. csv 파일 저장"
   ]
  },
  {
   "cell_type": "code",
   "execution_count": 18,
   "metadata": {},
   "outputs": [],
   "source": [
    "\n",
    "# 6. 결과를 CSV로 저장 (필요할 경우)\n",
    "pivot_data.to_csv(\"요일별_자치구별_단속건수.csv\", index=False, encoding='utf-8-sig')"
   ]
  },
  {
   "cell_type": "markdown",
   "metadata": {},
   "source": [
    "### 5. 요일이랑 총합만 표시 "
   ]
  },
  {
   "cell_type": "code",
   "execution_count": 19,
   "metadata": {},
   "outputs": [
    {
     "name": "stdout",
     "output_type": "stream",
     "text": [
      "  단속요일       총합\n",
      "0  월요일  289,484\n",
      "1  화요일  301,120\n",
      "2  수요일  293,836\n",
      "3  목요일  297,774\n",
      "4  금요일  309,676\n",
      "5  토요일  161,863\n",
      "6  일요일  155,377\n"
     ]
    }
   ],
   "source": [
    "# 데이터 로드\n",
    "file_path = \"요일별_자치구별_단속건수.csv\"  # 파일 경로를 지정하세요.\n",
    "data = pd.read_csv(file_path, encoding='utf-8')\n",
    "\n",
    "# '단속요일'과 '총합' 칼럼만 선택\n",
    "filtered_data = data[['단속요일', '총합']]\n",
    "\n",
    "# 결과 출력\n",
    "print(filtered_data)"
   ]
  },
  {
   "cell_type": "markdown",
   "metadata": {},
   "source": [
    "### 6. 요일별 단속현황 시각화"
   ]
  },
  {
   "cell_type": "code",
   "execution_count": 32,
   "metadata": {},
   "outputs": [
    {
     "data": {
      "image/png": "[encoded data removed]",
      "text/plain": [
       "<Figure size 1000x600 with 1 Axes>"
      ]
     },
     "metadata": {},
     "output_type": "display_data"
    }
   ],
   "source": [
    "import pandas as pd\n",
    "import matplotlib.pyplot as plt\n",
    "from matplotlib import font_manager, rc\n",
    "import os\n",
    "\n",
    "\n",
    "data = {\n",
    "    'Day of Week': ['Mon', 'Tue', 'Wed', 'Thur', 'Fri', 'Sat', 'Sun'],\n",
    "    'Total': [289484, 301120, 293836, 297774, 309676, 161863, 155377]\n",
    "}\n",
    "\n",
    "# DataFrame 생성\n",
    "df = pd.DataFrame(data)\n",
    "\n",
    "# 요일의 순서를 지정 (Monday~Sunday)\n",
    "day_order = ['Mon', 'Tue', 'Wed', 'Thur', 'Fri', 'Sat', 'Sun']\n",
    "df['Day of Week'] = pd.Categorical(df['Day of Week'], categories=day_order, ordered=True)\n",
    "df = df.sort_values('Day of Week')\n",
    "\n",
    "# 막대그래프 그리기\n",
    "plt.figure(figsize=(10,6))\n",
    "bars = plt.bar(df['Day of Week'], df['Total'], color='skyblue')\n",
    "\n",
    "# 그래프 제목 및 라벨 설정 \n",
    "plt.title('Monday ~ Sunday', fontsize=16)\n",
    "plt.xlabel('Day of Week', fontsize=14)\n",
    "plt.ylabel('Total', fontsize=14)\n",
    "\n",
    "# y축 숫자에 천 단위 구분기호 추가\n",
    "plt.gca().yaxis.set_major_formatter(plt.FuncFormatter(lambda x, loc: \"{:,}\".format(int(x))))\n",
    "\n",
    "# 데이터 라벨 추가 \n",
    "for bar in bars:\n",
    "    height = bar.get_height()\n",
    "    plt.text(bar.get_x() + bar.get_width()/2, height, f'{height:,}', ha='center', va='bottom', fontsize=12)\n",
    "\n",
    "# 그래프 레이아웃 조정 및 표시\n",
    "plt.tight_layout()\n",
    "plt.show()\n"
   ]
  }
 ],
 "metadata": {
  "kernelspec": {
   "display_name": "venv",
   "language": "python",
   "name": "python3"
  },
  "language_info": {
   "codemirror_mode": {
    "name": "ipython",
    "version": 3
   },
   "file_extension": ".py",
   "mimetype": "text/x-python",
   "name": "python",
   "nbconvert_exporter": "python",
   "pygments_lexer": "ipython3",
   "version": "3.12.6"
  }
 },
 "nbformat": 4,
 "nbformat_minor": 2
}
